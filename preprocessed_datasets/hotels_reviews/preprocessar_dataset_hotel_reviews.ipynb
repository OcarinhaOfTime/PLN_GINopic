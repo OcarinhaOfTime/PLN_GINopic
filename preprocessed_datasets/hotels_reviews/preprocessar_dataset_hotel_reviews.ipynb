{
 "cells": [
  {
   "cell_type": "code",
   "execution_count": 1,
   "metadata": {
    "id": "3T-nSBbuF6Vi"
   },
   "outputs": [],
   "source": [
    "import pandas as pd\n",
    "from sklearn.model_selection import train_test_split\n",
    "import json\n",
    "import string\n",
    "from nltk.corpus import stopwords\n",
    "\n",
    "import nltk\n",
    "import re\n",
    "from collections import Counter\n",
    "import math\n",
    "import numpy as np"
   ]
  },
  {
   "cell_type": "code",
   "execution_count": 2,
   "metadata": {
    "colab": {
     "base_uri": "https://localhost:8080/"
    },
    "id": "wjQ3qA8h0BmS",
    "outputId": "e40a232e-cd2d-41e6-a7c3-01363bf11d75"
   },
   "outputs": [
    {
     "name": "stderr",
     "output_type": "stream",
     "text": [
      "[nltk_data] Downloading package stopwords to /home/vagner/nltk_data...\n",
      "[nltk_data]   Package stopwords is already up-to-date!\n"
     ]
    }
   ],
   "source": [
    "nltk.download('stopwords')\n",
    "\n",
    "stop_words = set(stopwords.words('english'))\n",
    "\n",
    "def process_text(text):\n",
    "    if isinstance(text, str):\n",
    "      text = text.lower()\n",
    "      text = text.translate(str.maketrans('', '', string.punctuation))\n",
    "      text = ' '.join(word for word in text.split()\n",
    "                    if word.isalpha() and word not in stop_words and re.match(r'^[a-z]+$', word))\n",
    "      return text\n",
    "    else:\n",
    "      return ''\n",
    "\n",
    "df = pd.read_csv('Hotel_Reviews.csv')\n",
    "\n",
    "# Aplicar o processamento e remover textos vazios\n",
    "df['reviews.text'] = df['reviews.text'].apply(process_text)\n",
    "\n",
    "# Remove linhas onde a coluna 'reviews.text' é vazia\n",
    "df = df[df['reviews.text'].str.strip() != '']\n",
    "\n",
    "# Reinicia os índices após a remoção\n",
    "df.reset_index(drop=True, inplace=True)\n",
    "\n",
    "df.to_csv('Processed_Hotel_Reviews.csv', index=False)"
   ]
  },
  {
   "cell_type": "code",
   "execution_count": 3,
   "metadata": {
    "id": "PXF2zsDWImk6"
   },
   "outputs": [],
   "source": [
    "# Carrega o arquivo\n",
    "file_path = 'Processed_Hotel_Reviews.csv'\n",
    "df = pd.read_csv(file_path)\n",
    "\n",
    "train_df, temp_df = train_test_split(df, test_size=0.4, random_state=42)\n",
    "val_df, test_df = train_test_split(temp_df, test_size=0.5, random_state=42)\n",
    "\n",
    "# Divide o dataset em treinamento, validação e teste\n",
    "train_df['partition'] = 'train'\n",
    "val_df['partition'] = 'val'\n",
    "test_df['partition'] = 'test'"
   ]
  },
  {
   "cell_type": "code",
   "execution_count": 9,
   "metadata": {
    "id": "hfYJUtM6JOtb"
   },
   "outputs": [],
   "source": [
    "# Combina os dataframes\n",
    "combined_df = pd.concat([train_df, val_df, test_df])\n",
    "\n",
    "# Cria o arquivo .tsv\n",
    "corpus_df = combined_df[['reviews.text', 'partition', 'reviews.rating']]\n",
    "corpus_df = corpus_df.dropna()\n",
    "corpus_file_path = 'corpus.tsv'\n",
    "corpus_df.to_csv(corpus_file_path, sep='\\t', index=False, header=False)"
   ]
  },
  {
   "cell_type": "code",
   "execution_count": 10,
   "metadata": {},
   "outputs": [],
   "source": [
    "class NpEncoder(json.JSONEncoder):\n",
    "    def default(self, obj):\n",
    "        if isinstance(obj, np.integer):\n",
    "            return int(obj)\n",
    "        if isinstance(obj, np.floating):\n",
    "            return float(obj)\n",
    "        if isinstance(obj, np.ndarray):\n",
    "            return obj.tolist()\n",
    "        return super(NpEncoder, self).default(obj)\n",
    "\n",
    "def clean_txt(txt):\n",
    "    ctks = [t for t in txt.split(' ') if t in vocabulary]\n",
    "    if len(ctks) == 0:\n",
    "        return None\n",
    "\n",
    "    return ' '.join(ctks)"
   ]
  },
  {
   "cell_type": "code",
   "execution_count": 11,
   "metadata": {},
   "outputs": [],
   "source": [
    "#corpus_df2 = corpus_df.copy()\n",
    "#corpus_df2['reviews.text'] = corpus_df['reviews.text'].apply(clean_txt)\n",
    "#corpus_df2 = corpus_df2.dropna()\n",
    "#corpus_df2.to_csv(corpus_file_path, sep='\\t', index=False, header=False)"
   ]
  },
  {
   "cell_type": "code",
   "execution_count": 12,
   "metadata": {
    "id": "jDPlVuhp-ynw"
   },
   "outputs": [
    {
     "name": "stdout",
     "output_type": "stream",
     "text": [
      "ayo?\n"
     ]
    }
   ],
   "source": [
    "# Extrai palavras únicas criando o vocabulário\n",
    "print('ayo?')\n",
    "word_counter = Counter()\n",
    "\n",
    "for review_text in corpus_df['reviews.text'].astype(str):\n",
    "    for word in review_text.split(' '):\n",
    "        if word.isalpha():\n",
    "            word_counter[word] += 1\n",
    "        else:\n",
    "            print('what?', word)\n",
    "\n",
    "vocabulary = {word for word, count in word_counter.items()}\n",
    "\n",
    "vocabulary_file_path = 'vocabulary.txt'\n",
    "with open(vocabulary_file_path, 'w') as vocab_file:\n",
    "    vocab_file.write('\\n'.join(sorted(vocabulary)))\n",
    "\n",
    "# Remove NaN antes de coletar os labels\n",
    "valid_labels = np.floor(corpus_df['reviews.rating']).unique().tolist()\n",
    "\n",
    "# Cria o arquivo metadata.json\n",
    "metadata = {\n",
    "    \"total_documents\": len(df),\n",
    "    \"vocabulary_length\": len(vocabulary),\n",
    "    \"preprocessing-info\": [],\n",
    "    \"labels\": sorted(valid_labels),\n",
    "    \"total_labels\": len(valid_labels),\n",
    "    \"last-training-doc\": np.where(corpus_df.partition == 'train')[0][-1],\n",
    "    \"last-validation-doc\": np.where(corpus_df.partition == 'val')[0][-1]\n",
    "}\n",
    "\n",
    "metadata_file_path = 'metadata.json'\n",
    "with open(metadata_file_path, 'w') as metadata_file:\n",
    "    json.dump(metadata, metadata_file, indent=4, cls=NpEncoder)"
   ]
  },
  {
   "cell_type": "code",
   "execution_count": null,
   "metadata": {},
   "outputs": [],
   "source": []
  },
  {
   "cell_type": "code",
   "execution_count": null,
   "metadata": {},
   "outputs": [],
   "source": []
  }
 ],
 "metadata": {
  "colab": {
   "provenance": []
  },
  "kernelspec": {
   "display_name": "Python 3 (ipykernel)",
   "language": "python",
   "name": "python3"
  },
  "language_info": {
   "codemirror_mode": {
    "name": "ipython",
    "version": 3
   },
   "file_extension": ".py",
   "mimetype": "text/x-python",
   "name": "python",
   "nbconvert_exporter": "python",
   "pygments_lexer": "ipython3",
   "version": "3.12.3"
  }
 },
 "nbformat": 4,
 "nbformat_minor": 4
}
