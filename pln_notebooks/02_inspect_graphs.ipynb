{
 "cells": [
  {
   "cell_type": "code",
   "execution_count": 2,
   "id": "a1cea908-1c47-499f-bd92-2ff65f722e2d",
   "metadata": {},
   "outputs": [],
   "source": [
    "import warnings\n",
    "warnings.filterwarnings('ignore')\n",
    "\n",
    "from octis.dataset.dataset import Dataset\n",
    "\n",
    "#Import models:\n",
    "from octis.models.GINOPIC import GINOPIC\n",
    "\n",
    "#Import coherence metrics:\n",
    "from octis.evaluation_metrics.coherence_metrics import *\n",
    "\n",
    "#Import TD metrics:\n",
    "from octis.evaluation_metrics.diversity_metrics import *\n",
    "\n",
    "#Import classification metrics:\n",
    "from octis.evaluation_metrics.classification_metrics import *\n",
    "\n",
    "import random, torch\n",
    "import pickle as pkl"
   ]
  },
  {
   "cell_type": "code",
   "execution_count": 4,
   "id": "e2fb129d-b7a7-439b-b852-38a2d950d61a",
   "metadata": {},
   "outputs": [],
   "source": [
    "p = 'doc_graphs/20NG_partTrue_validFalse/_SimilarityGraph/eps0.4_F2048_test.pkl'\n",
    "graphs = pkl.load(open(p, 'rb'))"
   ]
  },
  {
   "cell_type": "code",
   "execution_count": 7,
   "id": "14f0ae4e-ce77-49a5-aa28-210476bec751",
   "metadata": {},
   "outputs": [
    {
     "data": {
      "text/plain": [
       "2447"
      ]
     },
     "execution_count": 7,
     "metadata": {},
     "output_type": "execute_result"
    }
   ],
   "source": [
    "len(graphs)"
   ]
  },
  {
   "cell_type": "code",
   "execution_count": null,
   "id": "eb5af031-56c9-4623-8576-f69d55f48c6a",
   "metadata": {},
   "outputs": [],
   "source": []
  }
 ],
 "metadata": {
  "kernelspec": {
   "display_name": "Python 3 (ipykernel)",
   "language": "python",
   "name": "python3"
  },
  "language_info": {
   "codemirror_mode": {
    "name": "ipython",
    "version": 3
   },
   "file_extension": ".py",
   "mimetype": "text/x-python",
   "name": "python",
   "nbconvert_exporter": "python",
   "pygments_lexer": "ipython3",
   "version": "3.12.3"
  }
 },
 "nbformat": 4,
 "nbformat_minor": 5
}
