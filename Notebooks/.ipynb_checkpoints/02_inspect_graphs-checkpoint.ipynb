{
 "cells": [
  {
   "cell_type": "code",
   "execution_count": 5,
   "id": "a1cea908-1c47-499f-bd92-2ff65f722e2d",
   "metadata": {},
   "outputs": [],
   "source": [
    "import warnings\n",
    "warnings.filterwarnings('ignore')\n",
    "\n",
    "import sys, os\n",
    "sys.path.insert(0, os.path.abspath('..'))\n",
    "\n",
    "from octis.dataset.dataset import Dataset\n",
    "from octis.models.GINOPIC import GINOPIC\n",
    "from octis.evaluation_metrics.coherence_metrics import *\n",
    "from octis.evaluation_metrics.diversity_metrics import *\n",
    "from octis.evaluation_metrics.classification_metrics import *\n",
    "\n",
    "import random, torch\n",
    "import pickle as pkl\n",
    "\n",
    "import matplotlib.pyplot as plt"
   ]
  },
  {
   "cell_type": "code",
   "execution_count": 8,
   "id": "e2fb129d-b7a7-439b-b852-38a2d950d61a",
   "metadata": {},
   "outputs": [],
   "source": [
    "p = 'doc_graphs/20NG_partTrue_validFalse/_SimilarityGraph/eps0.4_F2048_test.pkl'\n",
    "graphs = pkl.load(open(p, 'rb'))"
   ]
  },
  {
   "cell_type": "code",
   "execution_count": null,
   "id": "564ac3a8-3cac-4dd7-99fe-ff278cf712fa",
   "metadata": {},
   "outputs": [],
   "source": []
  }
 ],
 "metadata": {
  "kernelspec": {
   "display_name": "Python 3 (ipykernel)",
   "language": "python",
   "name": "python3"
  },
  "language_info": {
   "codemirror_mode": {
    "name": "ipython",
    "version": 3
   },
   "file_extension": ".py",
   "mimetype": "text/x-python",
   "name": "python",
   "nbconvert_exporter": "python",
   "pygments_lexer": "ipython3",
   "version": "3.12.3"
  }
 },
 "nbformat": 4,
 "nbformat_minor": 5
}
