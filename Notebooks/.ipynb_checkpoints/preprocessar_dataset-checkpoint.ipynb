{
 "cells": [
  {
   "cell_type": "code",
   "execution_count": 14,
   "metadata": {
    "id": "SCui0Afa9Z9g"
   },
   "outputs": [],
   "source": [
    "import pandas as pd\n",
    "from sklearn.model_selection import train_test_split\n",
    "import json"
   ]
  },
  {
   "cell_type": "markdown",
   "metadata": {
    "id": "7qiX47Sx_L87"
   },
   "source": [
    "## Carrega o csv"
   ]
  },
  {
   "cell_type": "code",
   "execution_count": 15,
   "metadata": {
    "id": "6gpYuGoa7eEQ"
   },
   "outputs": [],
   "source": [
    "data_dir = '../preprocessed_datasets/BRNews/'\n",
    "file_path = f'{data_dir}/pre-processed.csv'\n",
    "df = pd.read_csv(file_path)"
   ]
  },
  {
   "cell_type": "markdown",
   "metadata": {
    "id": "pmfZljmVIxAf"
   },
   "source": [
    "## Divide o dataset em treinamento, validação e teste"
   ]
  },
  {
   "cell_type": "code",
   "execution_count": 16,
   "metadata": {
    "id": "PXF2zsDWImk6"
   },
   "outputs": [],
   "source": [
    "train_df, temp_df = train_test_split(df, test_size=0.4, random_state=42)\n",
    "val_df, test_df = train_test_split(temp_df, test_size=0.5, random_state=42)"
   ]
  },
  {
   "cell_type": "markdown",
   "metadata": {
    "id": "C5Sa5MqIJAmh"
   },
   "source": [
    "# Adiciona a coluna 'partition' com as partições apropriadas"
   ]
  },
  {
   "cell_type": "code",
   "execution_count": 17,
   "metadata": {
    "id": "kz8lBnSoIpTm"
   },
   "outputs": [],
   "source": [
    "train_df['partition'] = 'train'\n",
    "val_df['partition'] = 'val'\n",
    "test_df['partition'] = 'test'"
   ]
  },
  {
   "cell_type": "markdown",
   "metadata": {
    "id": "nQWLC9-JJKng"
   },
   "source": [
    "# Combina os dataframes"
   ]
  },
  {
   "cell_type": "code",
   "execution_count": 18,
   "metadata": {
    "id": "hfYJUtM6JOtb"
   },
   "outputs": [],
   "source": [
    "combined_df = pd.concat([train_df, val_df, test_df])"
   ]
  },
  {
   "cell_type": "markdown",
   "metadata": {
    "id": "JpMJJffe_CqA"
   },
   "source": [
    "## Cria o arquivo .tsv"
   ]
  },
  {
   "cell_type": "code",
   "execution_count": 19,
   "metadata": {
    "id": "bnNTz1hx9WOP"
   },
   "outputs": [],
   "source": [
    "corpus_df = combined_df[['preprocessed_news', 'partition', 'label']]\n",
    "corpus_file_path = f'{data_dir}/corpus.tsv'\n",
    "corpus_df.to_csv(corpus_file_path, sep='\\t', index=False, header=False)"
   ]
  },
  {
   "cell_type": "markdown",
   "metadata": {
    "id": "YHWE3LEO-7R5"
   },
   "source": [
    "# Extrai palavras únicas criando o vocabulário"
   ]
  },
  {
   "cell_type": "code",
   "execution_count": 20,
   "metadata": {
    "id": "jDPlVuhp-ynw"
   },
   "outputs": [],
   "source": [
    "vocabulary = set()\n",
    "df['preprocessed_news'].str.split().apply(vocabulary.update)\n",
    "vocabulary_file_path = f'{data_dir}/vocabulary.txt'\n",
    "with open(vocabulary_file_path, 'w') as vocab_file:\n",
    "    vocab_file.write('\\n'.join(sorted(vocabulary)))"
   ]
  },
  {
   "cell_type": "markdown",
   "metadata": {
    "id": "K_GAChlsYpIF"
   },
   "source": [
    "## Cria o arquivo metadata.json"
   ]
  },
  {
   "cell_type": "code",
   "execution_count": 21,
   "metadata": {
    "id": "2Uo72DoOYb_X"
   },
   "outputs": [],
   "source": [
    "metadata = {\n",
    "    \"total_documents\": len(df),\n",
    "    \"vocabulary_length\": len(vocabulary),\n",
    "    \"preprocessing-info\": [],\n",
    "    \"labels\": sorted(combined_df['label'].unique().tolist()),\n",
    "    \"total_labels\": combined_df['label'].nunique(),\n",
    "    \"last-training-doc\": int(train_df.index[-1]) + 1,\n",
    "    \"last-validation-doc\": int(val_df.index[-1]) + 1,\n",
    "}\n",
    "\n",
    "metadata_file_path = f'{data_dir}/metadata.json'\n",
    "with open(metadata_file_path, 'w') as metadata_file:\n",
    "    json.dump(metadata, metadata_file, indent=4)"
   ]
  },
  {
   "cell_type": "markdown",
   "metadata": {
    "id": "y3ZtHUcBKCXB"
   },
   "source": [
    "## Carrega conjunto de dados pré-processado"
   ]
  },
  {
   "cell_type": "code",
   "execution_count": 22,
   "metadata": {
    "id": "k8wBCBVgE7dO"
   },
   "outputs": [],
   "source": [
    "from octis.dataset.dataset import Dataset\n",
    "dataset = Dataset()\n",
    "dataset.load_custom_dataset_from_folder(data_dir)"
   ]
  },
  {
   "cell_type": "code",
   "execution_count": 23,
   "metadata": {
    "colab": {
     "base_uri": "https://localhost:8080/"
    },
    "id": "ptSTCf59FWuo",
    "outputId": "b83067a8-0a71-4704-bb15-15c9cdb1aad3"
   },
   "outputs": [
    {
     "name": "stdout",
     "output_type": "stream",
     "text": [
      "<octis.dataset.dataset.Dataset object at 0x7bf31e9893a0>\n"
     ]
    }
   ],
   "source": [
    "print(dataset)"
   ]
  },
  {
   "cell_type": "code",
   "execution_count": null,
   "metadata": {},
   "outputs": [],
   "source": []
  }
 ],
 "metadata": {
  "colab": {
   "provenance": []
  },
  "kernelspec": {
   "display_name": "Python 3 (ipykernel)",
   "language": "python",
   "name": "python3"
  },
  "language_info": {
   "codemirror_mode": {
    "name": "ipython",
    "version": 3
   },
   "file_extension": ".py",
   "mimetype": "text/x-python",
   "name": "python",
   "nbconvert_exporter": "python",
   "pygments_lexer": "ipython3",
   "version": "3.12.3"
  }
 },
 "nbformat": 4,
 "nbformat_minor": 4
}
