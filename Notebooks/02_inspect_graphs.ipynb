{
 "cells": [
  {
   "cell_type": "code",
   "execution_count": 19,
   "id": "a1cea908-1c47-499f-bd92-2ff65f722e2d",
   "metadata": {},
   "outputs": [],
   "source": [
    "import warnings\n",
    "warnings.filterwarnings('ignore')\n",
    "\n",
    "import sys, os\n",
    "sys.path.insert(0, os.path.abspath('..'))\n",
    "\n",
    "from octis.dataset.dataset import Dataset\n",
    "from octis.models.GINOPIC import GINOPIC\n",
    "from octis.evaluation_metrics.coherence_metrics import *\n",
    "from octis.evaluation_metrics.diversity_metrics import *\n",
    "from octis.evaluation_metrics.classification_metrics import *\n",
    "\n",
    "import random, torch\n",
    "import pickle as pkl\n",
    "\n",
    "import matplotlib.pyplot as plt"
   ]
  },
  {
   "cell_type": "code",
   "execution_count": 27,
   "id": "e2fb129d-b7a7-439b-b852-38a2d950d61a",
   "metadata": {},
   "outputs": [],
   "source": [
    "p = 'doc_graphs/BRNews_partTrue_validFalse/_SimilarityGraph/eps0.4_F64_test.pkl'\n",
    "graphs = pkl.load(open(p, 'rb'))"
   ]
  },
  {
   "cell_type": "code",
   "execution_count": 28,
   "id": "564ac3a8-3cac-4dd7-99fe-ff278cf712fa",
   "metadata": {},
   "outputs": [
    {
     "data": {
      "text/plain": [
       "(16, 16)"
      ]
     },
     "execution_count": 28,
     "metadata": {},
     "output_type": "execute_result"
    }
   ],
   "source": [
    "g = np.array(graphs[0].adjacency_matrix().to_dense())\n",
    "g.shape"
   ]
  },
  {
   "cell_type": "code",
   "execution_count": 29,
   "id": "8ebf54ae-a6e7-477a-a9f8-8a8d3dc24d75",
   "metadata": {},
   "outputs": [
    {
     "data": {
      "text/plain": [
       "1440"
      ]
     },
     "execution_count": 29,
     "metadata": {},
     "output_type": "execute_result"
    }
   ],
   "source": [
    "len(graphs)"
   ]
  },
  {
   "cell_type": "code",
   "execution_count": null,
   "id": "012522ca-1399-48ef-acb6-168403a85a9f",
   "metadata": {},
   "outputs": [],
   "source": []
  }
 ],
 "metadata": {
  "kernelspec": {
   "display_name": "Python 3 (ipykernel)",
   "language": "python",
   "name": "python3"
  },
  "language_info": {
   "codemirror_mode": {
    "name": "ipython",
    "version": 3
   },
   "file_extension": ".py",
   "mimetype": "text/x-python",
   "name": "python",
   "nbconvert_exporter": "python",
   "pygments_lexer": "ipython3",
   "version": "3.12.3"
  }
 },
 "nbformat": 4,
 "nbformat_minor": 5
}
