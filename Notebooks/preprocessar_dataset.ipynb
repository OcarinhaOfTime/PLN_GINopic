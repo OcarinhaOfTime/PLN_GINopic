{
  "cells": [
    {
      "cell_type": "code",
      "execution_count": 27,
      "metadata": {
        "collapsed": true,
        "id": "SCui0Afa9Z9g"
      },
      "outputs": [],
      "source": [
        "import pandas as pd\n",
        "from sklearn.model_selection import train_test_split"
      ]
    },
    {
      "cell_type": "markdown",
      "metadata": {
        "id": "7qiX47Sx_L87"
      },
      "source": [
        "# Carrega o csv"
      ]
    },
    {
      "cell_type": "code",
      "execution_count": 28,
      "metadata": {
        "id": "6gpYuGoa7eEQ"
      },
      "outputs": [],
      "source": [
        "file_path = 'files/pre-processed.csv'\n",
        "df = pd.read_csv(file_path)"
      ]
    },
    {
      "cell_type": "markdown",
      "metadata": {
        "id": "pmfZljmVIxAf"
      },
      "source": [
        "# Divide o dataset em treinamento, validação e teste"
      ]
    },
    {
      "cell_type": "code",
      "execution_count": 29,
      "metadata": {
        "id": "PXF2zsDWImk6"
      },
      "outputs": [],
      "source": [
        "train_df, temp_df = train_test_split(df, test_size=0.4, random_state=42)\n",
        "val_df, test_df = train_test_split(temp_df, test_size=0.5, random_state=42)"
      ]
    },
    {
      "cell_type": "markdown",
      "metadata": {
        "id": "C5Sa5MqIJAmh"
      },
      "source": [
        "# Adiciona a coluna 'partition' com as partições apropriadas"
      ]
    },
    {
      "cell_type": "code",
      "execution_count": 30,
      "metadata": {
        "id": "kz8lBnSoIpTm"
      },
      "outputs": [],
      "source": [
        "train_df['partition'] = 'training'\n",
        "val_df['partition'] = 'validation'\n",
        "test_df['partition'] = 'test'"
      ]
    },
    {
      "cell_type": "markdown",
      "metadata": {
        "id": "nQWLC9-JJKng"
      },
      "source": [
        "# Combina os dataframes"
      ]
    },
    {
      "cell_type": "code",
      "execution_count": 31,
      "metadata": {
        "id": "hfYJUtM6JOtb"
      },
      "outputs": [],
      "source": [
        "combined_df = pd.concat([train_df, val_df, test_df])"
      ]
    },
    {
      "cell_type": "markdown",
      "metadata": {
        "id": "JpMJJffe_CqA"
      },
      "source": [
        "# Cria o arquivo .tsv"
      ]
    },
    {
      "cell_type": "code",
      "execution_count": 32,
      "metadata": {
        "id": "bnNTz1hx9WOP"
      },
      "outputs": [],
      "source": [
        "corpus_df = combined_df[['preprocessed_news', 'partition', 'label']]\n",
        "corpus_file_path = 'files/corpus.tsv'\n",
        "corpus_df.to_csv(corpus_file_path, sep='\\t', index=False, header=False)"
      ]
    },
    {
      "cell_type": "markdown",
      "metadata": {
        "id": "YHWE3LEO-7R5"
      },
      "source": [
        "# Extrai palavras únicas criando o vocabulário"
      ]
    },
    {
      "cell_type": "code",
      "execution_count": 33,
      "metadata": {
        "id": "jDPlVuhp-ynw"
      },
      "outputs": [],
      "source": [
        "vocabulary = set()\n",
        "df['preprocessed_news'].str.split().apply(vocabulary.update)\n",
        "vocabulary_file_path = 'files/vocabulary.txt'\n",
        "with open(vocabulary_file_path, 'w') as vocab_file:\n",
        "    vocab_file.write('\\n'.join(sorted(vocabulary)))"
      ]
    },
    {
      "cell_type": "markdown",
      "metadata": {
        "id": "y3ZtHUcBKCXB"
      },
      "source": [
        "# carrega conjunto de dados pré-processado"
      ]
    },
    {
      "cell_type": "code",
      "execution_count": 34,
      "metadata": {
        "id": "k8wBCBVgE7dO"
      },
      "outputs": [],
      "source": [
        "from octis.dataset.dataset import Dataset\n",
        "dataset = Dataset()\n",
        "dataset.load_custom_dataset_from_folder('files')"
      ]
    },
    {
      "cell_type": "code",
      "execution_count": 35,
      "metadata": {
        "colab": {
          "base_uri": "https://localhost:8080/"
        },
        "id": "ptSTCf59FWuo",
        "outputId": "4d347b87-b25e-43ef-e3f0-eb61ad34766f"
      },
      "outputs": [
        {
          "name": "stdout",
          "output_type": "stream",
          "text": [
            "<octis.dataset.dataset.Dataset object at 0x7d4177a49150>\n"
          ]
        }
      ],
      "source": [
        "print(dataset)"
      ]
    }
  ],
  "metadata": {
    "colab": {
      "provenance": []
    },
    "kernelspec": {
      "display_name": "Python 3",
      "name": "python3"
    },
    "language_info": {
      "name": "python"
    }
  },
  "nbformat": 4,
  "nbformat_minor": 0
}
