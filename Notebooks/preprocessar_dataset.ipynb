{
  "nbformat": 4,
  "nbformat_minor": 0,
  "metadata": {
    "colab": {
      "provenance": []
    },
    "kernelspec": {
      "name": "python3",
      "display_name": "Python 3"
    },
    "language_info": {
      "name": "python"
    }
  },
  "cells": [
    {
      "cell_type": "code",
      "source": [
        "import pandas as pd"
      ],
      "metadata": {
        "collapsed": true,
        "id": "SCui0Afa9Z9g"
      },
      "execution_count": 5,
      "outputs": []
    },
    {
      "cell_type": "markdown",
      "source": [
        "# Carrega o csv"
      ],
      "metadata": {
        "id": "7qiX47Sx_L87"
      }
    },
    {
      "cell_type": "code",
      "execution_count": 11,
      "metadata": {
        "id": "6gpYuGoa7eEQ"
      },
      "outputs": [],
      "source": [
        "file_path = 'files/pre-processed.csv'\n",
        "df = pd.read_csv(file_path)"
      ]
    },
    {
      "cell_type": "markdown",
      "source": [
        "# Cria o arquivo .tsv"
      ],
      "metadata": {
        "id": "JpMJJffe_CqA"
      }
    },
    {
      "cell_type": "code",
      "source": [
        "corpus_df = df[['preprocessed_news', 'index', 'label']]\n",
        "corpus_file_path = 'files/corpus.tsv'\n",
        "corpus_df.to_csv(corpus_file_path, sep='\\t', index=False, header=False)"
      ],
      "metadata": {
        "id": "bnNTz1hx9WOP"
      },
      "execution_count": 12,
      "outputs": []
    },
    {
      "cell_type": "markdown",
      "source": [
        "# Extrai palavras únicas criando o vocabulário"
      ],
      "metadata": {
        "id": "YHWE3LEO-7R5"
      }
    },
    {
      "cell_type": "code",
      "source": [
        "vocabulary = set()\n",
        "df['preprocessed_news'].str.split().apply(vocabulary.update)\n",
        "vocabulary_file_path = 'files/vocabulary.txt'\n",
        "with open(vocabulary_file_path, 'w') as vocab_file:\n",
        "    vocab_file.write('\\n'.join(sorted(vocabulary)))"
      ],
      "metadata": {
        "id": "jDPlVuhp-ynw"
      },
      "execution_count": 13,
      "outputs": []
    }
  ]
}